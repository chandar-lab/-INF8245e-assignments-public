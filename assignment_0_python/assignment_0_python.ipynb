{
 "cells": [
  {
   "cell_type": "code",
   "execution_count": null,
   "metadata": {
    "id": "2QEWqnYwyomf"
   },
   "outputs": [],
   "source": [
    "!pip install otter-grader\n",
    "!git clone https://github.com/chandar-lab/INF8245e-assignments-public.git public"
   ]
  },
  {
   "cell_type": "code",
   "execution_count": null,
   "metadata": {},
   "outputs": [],
   "source": [
    "# Initialize Otter\n",
    "import otter\n",
    "grader = otter.Notebook(colab=True, tests_dir='./public/assignment_0_python/tests')"
   ]
  },
  {
   "cell_type": "markdown",
   "metadata": {},
   "source": [
    "# Tutorial 3: Python"
   ]
  },
  {
   "cell_type": "markdown",
   "metadata": {},
   "source": [
    "## Outline:\n",
    "\n",
    "1. **Basics**\n",
    "    * Basic data types\n",
    "    * Containers\n",
    "        * Lists\n",
    "        * Dictionaries\n",
    "        * Sets\n",
    "    * Functions\n",
    "2. **Numpy**\n",
    "    * Arrays\n",
    "    * Array indexing\n",
    "    * Datat types\n",
    "    * Array math\n",
    "3. **Pandas**\n",
    "    * Creating a dataframe\n",
    "    * Dataframe subsets\n",
    "    * Aggregation\n",
    "    * Long and wide format\n",
    "4. **Plotnine** \n",
    "    * Plotting a single graph\n",
    "    * Plotting multiple lines\n",
    "    * Subplotting\n",
    "5. **Practice problems**\n",
    "\n",
    "\n",
    "\n"
   ]
  },
  {
   "cell_type": "markdown",
   "metadata": {
    "id": "HdMbzt1--hfu"
   },
   "source": [
    "## 1. Basics\n",
    "\n",
    "Python is an object-oriented general-purpose programming language. It is high-level and presents a relatively simple syntax. The offical documentation can be found here: https://docs.python.org/3/. In particular they offer a [tutoral](https://docs.python.org/3/tutorial/index.html) which is useful for those who are already familar with other programming languages (you should be!).\n",
    "\n",
    "In this course you should use [Google Colab](https://colab.research.google.com/notebooks/intro.ipynb), which is a free cloud service that offers a jupyter notebook environment (which is executed on Google's cloud servers) **AND** a GPU! "
   ]
  },
  {
   "cell_type": "markdown",
   "metadata": {
    "id": "TM9he8cRLW7J"
   },
   "source": [
    "### 1.1 Basic data types \n",
    "\n"
   ]
  },
  {
   "cell_type": "markdown",
   "metadata": {
    "id": "4shLMNtZbTGj"
   },
   "source": [
    "**Numbers**"
   ]
  },
  {
   "cell_type": "code",
   "execution_count": null,
   "metadata": {
    "colab": {
     "base_uri": "https://localhost:8080/"
    },
    "id": "yXYTZV1C_NoT",
    "outputId": "b41b2c9f-3ca1-4ef6-a9ce-741d666592ad"
   },
   "outputs": [],
   "source": [
    "x = 3\n",
    "print(type(x)) # Prints \"<class 'int'>\"\n",
    "y = 2.5\n",
    "print(type(y)) # Prints \"<class 'float'>\""
   ]
  },
  {
   "cell_type": "markdown",
   "metadata": {
    "id": "XMzbQr9ZbAfY"
   },
   "source": [
    "**Booleans**"
   ]
  },
  {
   "cell_type": "code",
   "execution_count": null,
   "metadata": {
    "colab": {
     "base_uri": "https://localhost:8080/"
    },
    "id": "QvtcVmiW_ZGN",
    "outputId": "cc3fa806-fe3d-4521-e51c-5be7c576e7d0"
   },
   "outputs": [],
   "source": [
    "t = True\n",
    "f = False\n",
    "print(type(t)) # Prints \"<class 'bool'>\"\n",
    "print(t and f) # Logical AND; prints \"False\"\n",
    "print(t or f)  # Logical OR; prints \"True\"\n",
    "print(not t)   # Logical NOT; prints \"False\"\n",
    "print(t != f)  # Logical XOR; prints \"True\""
   ]
  },
  {
   "cell_type": "markdown",
   "metadata": {
    "id": "cYze6k4VbD25"
   },
   "source": [
    "**Strings**"
   ]
  },
  {
   "cell_type": "code",
   "execution_count": null,
   "metadata": {
    "colab": {
     "base_uri": "https://localhost:8080/"
    },
    "id": "g2ff_ZZG_cHC",
    "outputId": "a403c381-5052-486b-b3b5-ad3ca928d655"
   },
   "outputs": [],
   "source": [
    "hello = 'hello'    # String literals can use single quotes\n",
    "world = \"world\"    # or double quotes; it does not matter.\n",
    "print(hello)       # Prints \"hello\"\n",
    "print(len(hello))  # String length; prints \"5\"\n",
    "hw = hello + ' ' + world  # String concatenation\n",
    "print(hw)  # prints \"hello world\""
   ]
  },
  {
   "cell_type": "code",
   "execution_count": null,
   "metadata": {
    "colab": {
     "base_uri": "https://localhost:8080/"
    },
    "id": "f5SNwFuB_f6Z",
    "outputId": "24ec5419-fd4e-4ae3-9ed1-2c0aa1976bb1"
   },
   "outputs": [],
   "source": [
    "s = \"hello\"\n",
    "print(s.capitalize())  # Capitalize a string; prints \"Hello\"\n",
    "print(s.upper())       # Convert a string to uppercase; prints \"HELLO\"\n",
    "print(s.replace('l', '(ell)'))  # Replace all instances of one substring with another;                             "
   ]
  },
  {
   "cell_type": "markdown",
   "metadata": {
    "id": "l0yOjAsWLixz"
   },
   "source": [
    "### 1.2 Conainers\n",
    "\n",
    "Python includes several built-in container types: lists, dictionaries and sets."
   ]
  },
  {
   "cell_type": "markdown",
   "metadata": {
    "id": "Fsjc3Cy5L86p"
   },
   "source": [
    "#### 1.2.1 Lists\n",
    "\n",
    "A list is the Python equivalent of an array, but is resizeable and can contain elements of different types:"
   ]
  },
  {
   "cell_type": "code",
   "execution_count": null,
   "metadata": {
    "colab": {
     "base_uri": "https://localhost:8080/"
    },
    "id": "YiKMdQ1z_jZq",
    "outputId": "fee50f1b-cde5-4134-b763-3208b8c527e0"
   },
   "outputs": [],
   "source": [
    "xs = [3, 1, 2]    # Create a list\n",
    "print(xs, xs[2])  # Prints \"[3, 1, 2] 2\"\n",
    "print(xs[-1])     # Negative indices count from the end of the list; prints \"2\"\n",
    "xs[2] = 'foo'     # Lists can contain elements of different types\n",
    "print(xs)         # Prints \"[3, 1, 'foo']\"\n",
    "xs.append('bar')  # Add a new element to the end of the list\n",
    "print(xs)         # Prints \"[3, 1, 'foo', 'bar']\"\n",
    "x = xs.pop()      # Remove and return the last element of the list\n",
    "print(x, xs)      # Prints \"bar [3, 1, 'foo']\""
   ]
  },
  {
   "cell_type": "markdown",
   "metadata": {
    "id": "KTzFzowXbiah"
   },
   "source": [
    "**Slicing**"
   ]
  },
  {
   "cell_type": "code",
   "execution_count": null,
   "metadata": {
    "colab": {
     "base_uri": "https://localhost:8080/"
    },
    "id": "8GaMRm9N_mXN",
    "outputId": "b340b853-b707-4339-cc9a-718e57ceb864"
   },
   "outputs": [],
   "source": [
    "nums = list(range(5))     # range is a built-in function that creates a list of integers\n",
    "print(nums)               # Prints \"[0, 1, 2, 3, 4]\"\n",
    "print(nums[2:4])          # Get a slice from index 2 to 4 (exclusive); prints \"[2, 3]\"\n",
    "print(nums[2:])           # Get a slice from index 2 to the end; prints \"[2, 3, 4]\"\n",
    "print(nums[:])            # Get a slice of the whole list; prints \"[0, 1, 2, 3, 4]\"\n",
    "print(nums[:-1])          # Slice indices can be negative; prints \"[0, 1, 2, 3]\"\n",
    "nums[2:4] = [8, 9]        # Assign a new sublist to a slice\n",
    "print(nums)               # Prints \"[0, 1, 8, 9, 4]\""
   ]
  },
  {
   "cell_type": "markdown",
   "metadata": {
    "id": "v3uC1pqYbmED"
   },
   "source": [
    "**Loops**"
   ]
  },
  {
   "cell_type": "code",
   "execution_count": null,
   "metadata": {
    "colab": {
     "base_uri": "https://localhost:8080/"
    },
    "id": "nDS_qlJY_olW",
    "outputId": "1c8e333a-17cc-4579-9d5f-9a481834f378"
   },
   "outputs": [],
   "source": [
    "animals = ['cat', 'dog', 'monkey']\n",
    "for animal in animals:\n",
    "    print(animal)\n",
    "# Prints \"cat\", \"dog\", \"monkey\", each on its own line."
   ]
  },
  {
   "cell_type": "markdown",
   "metadata": {
    "id": "VRo-LrhsMGlk"
   },
   "source": [
    "#### 1.2.2 Dictionaries"
   ]
  },
  {
   "cell_type": "markdown",
   "metadata": {
    "id": "FOGFsVyXb0n_"
   },
   "source": [
    "A dictionary stores (key, value) pairs"
   ]
  },
  {
   "cell_type": "code",
   "execution_count": null,
   "metadata": {
    "colab": {
     "base_uri": "https://localhost:8080/"
    },
    "id": "HLgTTrc0_rmf",
    "outputId": "d57a77ec-aa87-4af6-ea3e-334fc809d9ec"
   },
   "outputs": [],
   "source": [
    "d = {'cat': 'cute', 'dog': 'furry'}  # Create a new dictionary with some data\n",
    "print(d['cat'])       # Get an entry from a dictionary; prints \"cute\"\n",
    "d['fish'] = 'wet'     # Set an entry in a dictionary\n",
    "print(d['fish'])      # Prints \"wet\"\n",
    "# print(d['monkey'])  # KeyError: 'monkey' not a key of d\n",
    "print(d.get('fish'))    # Get an element with a default; prints \"wet\"\n",
    "del d['fish']         # Remove an element from a dictionary"
   ]
  },
  {
   "cell_type": "markdown",
   "metadata": {
    "id": "4RiMdSnJMYVl"
   },
   "source": [
    "#### 1.2.3 Sets"
   ]
  },
  {
   "cell_type": "markdown",
   "metadata": {
    "id": "xd4IcZSfcK6b"
   },
   "source": [
    "A set is an unordered collection of distinct elements"
   ]
  },
  {
   "cell_type": "code",
   "execution_count": null,
   "metadata": {
    "colab": {
     "base_uri": "https://localhost:8080/"
    },
    "id": "DLOWnzhHcGTy",
    "outputId": "61b978be-fbee-4006-da18-debdc1a31cd8"
   },
   "outputs": [],
   "source": [
    "animals = {'cat', 'dog'}\n",
    "print('cat' in animals)   # Check if an element is in a set; prints \"True\"\n",
    "print('fish' in animals)  # prints \"False\"\n",
    "animals.add('fish')       # Add an element to a set\n",
    "print('fish' in animals)  # Prints \"True\"\n",
    "print(len(animals))       # Number of elements in a set; prints \"3\"\n",
    "animals.add('cat')        # Adding an element that is already in the set does nothing\n",
    "print(len(animals))       # Prints \"3\"\n",
    "animals.remove('cat')     # Remove an element from a set\n",
    "print(len(animals))       # Prints \"2\""
   ]
  },
  {
   "cell_type": "markdown",
   "metadata": {
    "id": "-cbqA3RwMhgL"
   },
   "source": [
    "### 1.3 Functions"
   ]
  },
  {
   "cell_type": "code",
   "execution_count": null,
   "metadata": {
    "colab": {
     "base_uri": "https://localhost:8080/"
    },
    "id": "djgotAdWAE9h",
    "outputId": "bde55f40-c1bf-435e-9194-5c23e3b12736"
   },
   "outputs": [],
   "source": [
    "def sign(x):\n",
    "    if x > 0:\n",
    "        return 'positive'\n",
    "    elif x < 0:\n",
    "        return 'negative'\n",
    "    else:\n",
    "        return 'zero'\n",
    "\n",
    "for x in [-1, 0, 1]:\n",
    "    print(sign(x))\n",
    "# Prints \"negative\", \"zero\", \"positive\""
   ]
  },
  {
   "cell_type": "markdown",
   "metadata": {
    "id": "BpTqjNAlMj_3"
   },
   "source": [
    "## 2. Numpy\n",
    "\n",
    "Numpy is the defacto library for computing with n-dimentional arrays (e.g. vector and matrices) in Python. You will typically see it refered in code as `np`. You can find the documentation at: https://numpy.org"
   ]
  },
  {
   "cell_type": "code",
   "execution_count": null,
   "metadata": {},
   "outputs": [],
   "source": [
    "import numpy as np"
   ]
  },
  {
   "cell_type": "markdown",
   "metadata": {
    "id": "q72065dPXIgy"
   },
   "source": [
    "### 2.1 Arrays\n"
   ]
  },
  {
   "cell_type": "markdown",
   "metadata": {
    "id": "YZvmCddVeWBE"
   },
   "source": [
    "Using numpy, we can create arrays and access their elements"
   ]
  },
  {
   "cell_type": "code",
   "execution_count": null,
   "metadata": {
    "colab": {
     "base_uri": "https://localhost:8080/"
    },
    "id": "IKo8APPdANRn",
    "outputId": "1c5d3167-fe3c-43ed-ae5e-c18ec158514f"
   },
   "outputs": [],
   "source": [
    "a = np.array([1, 2, 3])   # Create a rank 1 array\n",
    "print(type(a))            # Prints \"<class 'numpy.ndarray'>\"\n",
    "print(a.shape)            # Prints \"(3,)\"\n",
    "print(a[0], a[1], a[2])   # Prints \"1 2 3\"\n",
    "a[0] = 5                  # Change an element of the array\n",
    "print(a)                  # Prints \"[5, 2, 3]\"\n",
    "\n",
    "b = np.array([[1,2,3],[4,5,6]])    # Create a rank 2 array\n",
    "print(b.shape)                     # Prints \"(2, 3)\"\n",
    "print(b[0, 0], b[0, 1], b[1, 0])   # Prints \"1 2 4\""
   ]
  },
  {
   "cell_type": "markdown",
   "metadata": {
    "id": "33p6Ub8keFQq"
   },
   "source": [
    "There are also functions for creating the arrays"
   ]
  },
  {
   "cell_type": "code",
   "execution_count": null,
   "metadata": {
    "colab": {
     "base_uri": "https://localhost:8080/"
    },
    "id": "vyWJHfwFASx7",
    "outputId": "c81c2999-4c8a-469d-9470-bf8f8ff0ea6f"
   },
   "outputs": [],
   "source": [
    "a = np.zeros((2,2))   # Create an array of all zeros\n",
    "print(a)              # Prints \"[[ 0.  0.]\n",
    "                      #          [ 0.  0.]]\"\n",
    "\n",
    "b = np.ones((1,2))    # Create an array of all ones\n",
    "print(b)              # Prints \"[[ 1.  1.]]\"\n",
    "\n",
    "c = np.full((2,2), 7)  # Create a constant array\n",
    "print(c)               # Prints \"[[ 7.  7.]\n",
    "                       #          [ 7.  7.]]\"\n",
    "\n",
    "d = np.eye(2)         # Create a 2x2 identity matrix\n",
    "print(d)              # Prints \"[[ 1.  0.]\n",
    "                      #          [ 0.  1.]]\"\n",
    "\n",
    "e = np.random.random((2,2))  # Create an array filled with random values\n",
    "print(e)                     # Might print \"[[ 0.91940167  0.08143941]\n",
    "                             #               [ 0.68744134  0.87236687]]\""
   ]
  },
  {
   "cell_type": "markdown",
   "metadata": {
    "id": "c_warif3935M"
   },
   "source": [
    "### 2.1 Array indexing\n"
   ]
  },
  {
   "cell_type": "markdown",
   "metadata": {
    "id": "oGr50yxoe3yE"
   },
   "source": [
    "Slicing is similar to python lists"
   ]
  },
  {
   "cell_type": "code",
   "execution_count": null,
   "metadata": {
    "colab": {
     "base_uri": "https://localhost:8080/"
    },
    "id": "XNgxDQtzAV1u",
    "outputId": "18d5e9ce-eb21-48fd-8cb9-165b89ffae33"
   },
   "outputs": [],
   "source": [
    "# Create the following rank 2 array with shape (3, 4)\n",
    "# [[ 1  2  3  4]\n",
    "#  [ 5  6  7  8]\n",
    "#  [ 9 10 11 12]]\n",
    "a = np.array([[1,2,3,4], [5,6,7,8], [9,10,11,12]])\n",
    "\n",
    "# Use slicing to pull out the subarray consisting of the first 2 rows\n",
    "# and columns 1 and 2; b is the following array of shape (2, 2):\n",
    "# [[2 3]\n",
    "#  [6 7]]\n",
    "b = a[:2, 1:3]\n",
    "\n",
    "# A slice of an array is a view into the same data, so modifying it\n",
    "# will modify the original array.\n",
    "print(a[0, 1])   # Prints \"2\"\n",
    "b[0, 0] = 77     # b[0, 0] is the same piece of data as a[0, 1]\n",
    "print(a[0, 1])   # Prints \"77\""
   ]
  },
  {
   "cell_type": "markdown",
   "metadata": {
    "id": "esijex5HfUGR"
   },
   "source": [
    "Boolean array indexing"
   ]
  },
  {
   "cell_type": "code",
   "execution_count": null,
   "metadata": {
    "colab": {
     "base_uri": "https://localhost:8080/"
    },
    "id": "tQRAzuAOfRvw",
    "outputId": "5145ace2-03c3-426a-bf67-dbf97680c3b1"
   },
   "outputs": [],
   "source": [
    "a = np.array([[1,2], [3, 4], [5, 6]])\n",
    "\n",
    "bool_idx = (a > 2)   # Find the elements of a that are bigger than 2;\n",
    "                     # this returns a numpy array of Booleans of the same\n",
    "                     # shape as a, where each slot of bool_idx tells\n",
    "                     # whether that element of a is > 2.\n",
    "\n",
    "print(bool_idx)      # Prints \"[[False False]\n",
    "                     #          [ True  True]\n",
    "                     #          [ True  True]]\"\n",
    "\n",
    "# We use boolean array indexing to construct a rank 1 array\n",
    "# consisting of the elements of a corresponding to the True values\n",
    "# of bool_idx\n",
    "print(a[bool_idx])  # Prints \"[3 4 5 6]\"\n",
    "\n",
    "# We can do all of the above in a single concise statement:\n",
    "print(a[a > 2])     # Prints \"[3 4 5 6]\""
   ]
  },
  {
   "cell_type": "markdown",
   "metadata": {
    "id": "bzIBRiDA94C3"
   },
   "source": [
    "### 2.1 Datatypes\n"
   ]
  },
  {
   "cell_type": "code",
   "execution_count": null,
   "metadata": {
    "colab": {
     "base_uri": "https://localhost:8080/"
    },
    "id": "qCaXFJrlAhr6",
    "outputId": "c3463bcf-29e4-4dbc-b22d-b9a79afcb939"
   },
   "outputs": [],
   "source": [
    "x = np.array([1, 2])   # Let numpy choose the datatype\n",
    "print(x.dtype)         # Prints \"int64\"\n",
    "\n",
    "x = np.array([1.0, 2.0])   # Let numpy choose the datatype\n",
    "print(x.dtype)             # Prints \"float64\"\n",
    "\n",
    "x = np.array([1, 2], dtype=np.int64)   # Force a particular datatype\n",
    "print(x.dtype)                         # Prints \"int64\""
   ]
  },
  {
   "cell_type": "markdown",
   "metadata": {
    "id": "V6n3XsEN94JT"
   },
   "source": [
    "### 2.1 Array math\n"
   ]
  },
  {
   "cell_type": "markdown",
   "metadata": {
    "id": "DZNLT4rvgsek"
   },
   "source": [
    "Basic mathematical functions operate elementwise on arrays"
   ]
  },
  {
   "cell_type": "code",
   "execution_count": null,
   "metadata": {
    "colab": {
     "base_uri": "https://localhost:8080/"
    },
    "id": "Gr-6HsXVAlbL",
    "outputId": "904ebf5d-0378-4755-b5ef-bcabda2bbd65"
   },
   "outputs": [],
   "source": [
    "x = np.array([[1,2],[3,4]], dtype=np.float64)\n",
    "y = np.array([[5,6],[7,8]], dtype=np.float64)\n",
    "\n",
    "# Elementwise sum; both produce the array\n",
    "# [[ 6.0  8.0]\n",
    "#  [10.0 12.0]]\n",
    "print(x + y)\n",
    "print(np.add(x, y))\n",
    "\n",
    "# Elementwise difference; both produce the array\n",
    "# [[-4.0 -4.0]\n",
    "#  [-4.0 -4.0]]\n",
    "print(x - y)\n",
    "print(np.subtract(x, y))\n",
    "\n",
    "# Elementwise product; both produce the array\n",
    "# [[ 5.0 12.0]\n",
    "#  [21.0 32.0]]\n",
    "print(x * y)\n",
    "print(np.multiply(x, y))\n",
    "\n",
    "# Elementwise division; both produce the array\n",
    "# [[ 0.2         0.33333333]\n",
    "#  [ 0.42857143  0.5       ]]\n",
    "print(x / y)\n",
    "print(np.divide(x, y))\n",
    "\n",
    "# Elementwise square root; produces the array\n",
    "# [[ 1.          1.41421356]\n",
    "#  [ 1.73205081  2.        ]]\n",
    "print(np.sqrt(x))"
   ]
  },
  {
   "cell_type": "markdown",
   "metadata": {
    "id": "OL1m01uagfGW"
   },
   "source": [
    "Note that unlike MATLAB, * is elementwise multiplication, not matrix multiplication. We instead use the dot function to compute inner products of vectors, to multiply a vector by a matrix, and to multiply matrices. dot is available both as a function in the numpy module and as an instance method of array objects:"
   ]
  },
  {
   "cell_type": "code",
   "execution_count": null,
   "metadata": {
    "colab": {
     "base_uri": "https://localhost:8080/"
    },
    "id": "X4zrlqjGAoF5",
    "outputId": "017e6eb2-4c34-458f-d6e9-80556e27adfd"
   },
   "outputs": [],
   "source": [
    "x = np.array([[1,2],[3,4]])\n",
    "y = np.array([[5,6],[7,8]])\n",
    "\n",
    "v = np.array([9,10])\n",
    "w = np.array([11, 12])\n",
    "\n",
    "# Inner product of vectors; both produce 219\n",
    "print(v.dot(w))\n",
    "print(np.dot(v, w))\n",
    "\n",
    "# Matrix / vector product; both produce the rank 1 array [29 67]\n",
    "print(x.dot(v))\n",
    "print(np.dot(x, v))\n",
    "\n",
    "# Matrix / matrix product; both produce the rank 2 array\n",
    "# [[19 22]\n",
    "#  [43 50]]\n",
    "print(x.dot(y))\n",
    "print(np.dot(x, y))"
   ]
  },
  {
   "cell_type": "markdown",
   "metadata": {
    "id": "VLmm8Xsjg1gi"
   },
   "source": [
    "Numpy provides many useful functions for performing computations on arrays; one of the most useful is sum:"
   ]
  },
  {
   "cell_type": "code",
   "execution_count": null,
   "metadata": {
    "colab": {
     "base_uri": "https://localhost:8080/"
    },
    "id": "AztA__ICAqHb",
    "outputId": "f6cb1262-e61f-4573-9b42-f3974227ccd6"
   },
   "outputs": [],
   "source": [
    "x = np.array([[1,2],[3,4]])\n",
    "\n",
    "print(np.sum(x))  # Compute sum of all elements; prints \"10\"\n",
    "print(np.sum(x, axis=0))  # Compute sum of each column; prints \"[4 6]\"\n",
    "print(np.sum(x, axis=1))  # Compute sum of each row; prints \"[3 7]\""
   ]
  },
  {
   "cell_type": "markdown",
   "metadata": {
    "id": "HxyKjP2Cg73f"
   },
   "source": [
    "Apart from computing mathematical functions using arrays, we frequently need to reshape or otherwise manipulate data in arrays. The simplest example of this type of operation is transposing a matrix; to transpose a matrix, simply use the T attribute of an array object:"
   ]
  },
  {
   "cell_type": "code",
   "execution_count": null,
   "metadata": {
    "colab": {
     "base_uri": "https://localhost:8080/"
    },
    "id": "XT_43k9WAtNi",
    "outputId": "27973701-ab70-421b-90e5-cd43b0f17e17"
   },
   "outputs": [],
   "source": [
    "x = np.array([[1,2], [3,4]])\n",
    "print(x)    # Prints \"[[1 2]\n",
    "            #          [3 4]]\"\n",
    "print(x.T)  # Prints \"[[1 3]\n",
    "            #          [2 4]]\"\n",
    "\n",
    "# Note that taking the transpose of a rank 1 array does nothing:\n",
    "v = np.array([1,2,3])\n",
    "print(v)    # Prints \"[1 2 3]\"\n",
    "print(v.T)  # Prints \"[1 2 3]\""
   ]
  },
  {
   "cell_type": "markdown",
   "metadata": {
    "id": "FV23NeqsZ76I"
   },
   "source": [
    "# 3. Pandas\n",
    "\n",
    "[Pandas](https://pandas.pydata.org/docs/) is a library for storing and manipulating tabular data. Such table is called a dataframe. As you will learn in this course, most data can be represented in tabular form and pandas is therefore quite useful. Additionally, your results will often in the form of tables for this we encourage you to use pandas. This section will give a breif introduction to pandas. We recommend you look at the official _getting started_ tutorial: https://pandas.pydata.org/docs/getting_started/index.html#getting-started.\n",
    "\n",
    "Documentation: https://pandas.pydata.org/docs/"
   ]
  },
  {
   "cell_type": "markdown",
   "metadata": {},
   "source": [
    "Typically `pandas` is imported as `pd`:"
   ]
  },
  {
   "cell_type": "code",
   "execution_count": null,
   "metadata": {},
   "outputs": [],
   "source": [
    "import pandas as pd"
   ]
  },
  {
   "cell_type": "markdown",
   "metadata": {},
   "source": [
    "## 3.1 Creating a DataFrame\n",
    "\n",
    "You can construct a dataframe with `pd.DataFrame` (there are more ways). Oversimplified, this takes a dictionary type that maps columns to numpy vectors or lists."
   ]
  },
  {
   "cell_type": "code",
   "execution_count": null,
   "metadata": {},
   "outputs": [],
   "source": [
    "df = pd.DataFrame({\n",
    "    'name': [\n",
    "        'Snow White and the Seven Dwarfs', \n",
    "        'Pinocchio',\n",
    "        'Fantasia',\n",
    "        'The Reluctant Dragon',\n",
    "        'Dumbo',\n",
    "        'Bambi'\n",
    "    ],\n",
    "    'year': np.asarray([1937, 1940, 1940, 1941, 1941, 1942])\n",
    "})\n",
    "print(df)"
   ]
  },
  {
   "cell_type": "markdown",
   "metadata": {},
   "source": [
    "It is possible to display pandas dataframes a more pretty format within a notebook:"
   ]
  },
  {
   "cell_type": "code",
   "execution_count": null,
   "metadata": {},
   "outputs": [],
   "source": [
    "from IPython.display import display\n",
    "display(df)"
   ]
  },
  {
   "cell_type": "markdown",
   "metadata": {},
   "source": [
    "## 3.2 Dataframe subsets\n",
    "\n",
    "There are many ways to extract or update a subset of a dataframe. Often you will see `df['name']` but you properly want to avoid this method, as it's behavior is not consistent for updating a dataframe. Instead, use `df.loc[]` or `df.iloc[]`. The former takes names while the latter takes indices."
   ]
  },
  {
   "cell_type": "code",
   "execution_count": null,
   "metadata": {},
   "outputs": [],
   "source": [
    "df.loc[:, 'name']  # Extract a specific column"
   ]
  },
  {
   "cell_type": "code",
   "execution_count": null,
   "metadata": {},
   "outputs": [],
   "source": [
    "df.loc[1:2, 'name']  # Extract a specific column for a specific row range"
   ]
  },
  {
   "cell_type": "code",
   "execution_count": null,
   "metadata": {},
   "outputs": [],
   "source": [
    "df.loc[1:1, 'name'] = 'Pinocchio (There are not strings on me)'\n",
    "df"
   ]
  },
  {
   "cell_type": "code",
   "execution_count": null,
   "metadata": {},
   "outputs": [],
   "source": [
    "df.loc[df.loc[:, 'year'] <= 1940, :] # Extract a all columns, but specify rows with a boolean array"
   ]
  },
  {
   "cell_type": "code",
   "execution_count": null,
   "metadata": {},
   "outputs": [],
   "source": [
    "df.iloc[:, 1]  # Extract a specific column, but the column is specified using an index"
   ]
  },
  {
   "cell_type": "markdown",
   "metadata": {},
   "source": [
    "## 3.3 Aggregation\n",
    "\n",
    "Using `.groupby()` is is possible to group a dataframe into smaller dataframes, then using `.apply()` a function can map each group with a custom function. This way you can aggregate any dataframe as you choose."
   ]
  },
  {
   "cell_type": "code",
   "execution_count": null,
   "metadata": {},
   "outputs": [],
   "source": [
    "df.groupby(['year']) \\\n",
    "  .apply(lambda group_df: pd.Series({ 'num movies': group_df.shape[0] }))"
   ]
  },
  {
   "cell_type": "markdown",
   "metadata": {},
   "source": [
    "Notice how the _year_ and _num movies_ are on different lines. That is because `year` is now an index column. The concept of indexes is a bit too advanced for what we will need. Generally, in this course, you will be better of avoiding advanced indexing. You can remove the index with `.reset_index()`."
   ]
  },
  {
   "cell_type": "code",
   "execution_count": null,
   "metadata": {},
   "outputs": [],
   "source": [
    "df.groupby(['year']) \\\n",
    "  .apply(lambda group_df: pd.Series({ 'num movies': group_df.shape[0] })) \\\n",
    "  .reset_index()"
   ]
  },
  {
   "cell_type": "markdown",
   "metadata": {},
   "source": [
    "## Wide and long format\n",
    "\n",
    "When dealing with tabular data, it is important to understand the concept of _wide format_ and _long format_. While this can be challenging in the beginning it will become very useful. Consider the follow dataframe that is a _wide format_:"
   ]
  },
  {
   "cell_type": "code",
   "execution_count": null,
   "metadata": {},
   "outputs": [],
   "source": [
    "df_wave = pd.DataFrame({\n",
    "    'x': np.linspace(0, 2*np.pi, 100),\n",
    "    'cos(x)': np.cos(np.linspace(0, 2*np.pi, 100)),\n",
    "    'sin(x)': np.sin(np.linspace(0, 2*np.pi, 100)),\n",
    "    'cos(2x)': np.cos(2*np.linspace(0, 2*np.pi, 100)),\n",
    "    'sin(2x)': np.sin(2*np.linspace(0, 2*np.pi, 100))\n",
    "})\n",
    "display(df_wave)"
   ]
  },
  {
   "cell_type": "markdown",
   "metadata": {},
   "source": [
    "The above dataframe is a _wide format_ because `cos(x)`, `sin(x)`,`cos(2x)`, and `sin(2x)` exists as column. The _long format_ alternative to this is to have one column indicate which waveform (column) it is. _wide format_  can be transformed to _long format_  by using `.melt()`:"
   ]
  },
  {
   "cell_type": "code",
   "execution_count": null,
   "metadata": {},
   "outputs": [],
   "source": [
    "df_wave.melt(id_vars=['x'], value_vars=['cos(x)', 'sin(x)', 'cos(2x)', 'sin(2x)'], var_name='fn', value_name='output')"
   ]
  },
  {
   "cell_type": "markdown",
   "metadata": {},
   "source": [
    "The _long format_ can be very useful. For example, if we wanted to aggregate each column in the _wide format_ that would require us to apply a function to each column. However, in the _long format_ we can simply use `.gropyby(['fn'])`."
   ]
  },
  {
   "cell_type": "markdown",
   "metadata": {},
   "source": [
    "## 4. Plotnine\n",
    "\n",
    "Ploting in python is commonly done with `matplotlib`. However, `matplotlib` should not be used directly. Instead, an abstraction like `seaborn` or `plotnine` should be used. In this course we advocate for [`plotnine`](https://plotnine.readthedocs.io/en/stable/). \n",
    "\n",
    "Plotnine is based on a so called _grammar of graphics_ and is essentially a python version of _ggplot2_ in R (a programming language). Often, if you can't find appropriate examples for plotnine you can easily find the examples for _ggplot2_.\n",
    "\n",
    "While you will often seen `import * from plotnine` is often best to avoid this and do `import plotnine as p9`."
   ]
  },
  {
   "cell_type": "code",
   "execution_count": null,
   "metadata": {
    "id": "RhLHKmAIZxVZ"
   },
   "outputs": [],
   "source": [
    "%matplotlib inline\n",
    "from IPython.display import display\n",
    "import plotnine as p9"
   ]
  },
  {
   "cell_type": "markdown",
   "metadata": {},
   "source": [
    "## 4.1 Prepearing the data\n",
    "\n",
    "Plotnine uses dataframes from pandas and you typically want it in _long format_. Let's prepear our data:"
   ]
  },
  {
   "cell_type": "code",
   "execution_count": null,
   "metadata": {},
   "outputs": [],
   "source": [
    "df_wave = pd.DataFrame({\n",
    "    'x': np.linspace(0, 2*np.pi, 100),\n",
    "    'cos(1x)': np.cos(np.linspace(0, 2*np.pi, 100)),\n",
    "    'sin(1x)': np.sin(np.linspace(0, 2*np.pi, 100)),\n",
    "    'cos(2x)': np.cos(2*np.linspace(0, 2*np.pi, 100)),\n",
    "    'sin(2x)': np.sin(2*np.linspace(0, 2*np.pi, 100)),\n",
    "    'cos(4x)': np.cos(4*np.linspace(0, 4*np.pi, 100)),\n",
    "    'sin(4x)': np.sin(4*np.linspace(0, 4*np.pi, 100)),\n",
    "    'cos(8x)': np.cos(4*np.linspace(0, 8*np.pi, 100)),\n",
    "    'sin(8x)': np.sin(4*np.linspace(0, 8*np.pi, 100)),\n",
    "})\n",
    "df_wave_long = df_wave.melt(id_vars=['x'], var_name='wave')\n",
    "df_wave_long.loc[:, 'type'] = df_wave_long.loc[:, 'wave'].str.slice(0, 3)\n",
    "df_wave_long.loc[:, 'wavenumber'] = df_wave_long.loc[:, 'wave'].str.slice(4, -2)\n",
    "display(df_wave_long)"
   ]
  },
  {
   "cell_type": "markdown",
   "metadata": {
    "id": "SJsoTEf_DpCY"
   },
   "source": [
    "### 4.1 Plotting a single curve\n",
    "\n",
    "It is often useful to first plot a single curve, and then gradually increase the complexity of your plot. If you run in to issues always try to simplify first. \n",
    "\n",
    "You start a plotting gramma by using `p9.ggplot(dataframe)`. This instructs plotnine what data to plot. Everything after is about how to plot it. In this case we write `p9.geom_point(p9.aes(x='x', y='value'))`, this tells plotnine to use `x` as the x-axis and `value` as the y-axis."
   ]
  },
  {
   "cell_type": "code",
   "execution_count": null,
   "metadata": {
    "colab": {
     "base_uri": "https://localhost:8080/",
     "height": 281
    },
    "id": "1pBjVmSiC4xS",
    "outputId": "fe4be694-6594-40d7-99c9-0bffb6fa62d8"
   },
   "outputs": [],
   "source": [
    "df_wave_subset = df_wave_long.loc[df_wave_long['wave'] == 'cos(1x)', :]\n",
    "p = (p9.ggplot(df_wave_subset) +\n",
    "     p9.geom_point(p9.aes(x='x', y='value'))\n",
    ")\n",
    "print(p)"
   ]
  },
  {
   "cell_type": "markdown",
   "metadata": {},
   "source": [
    "Unlike, if you had just used matplotlib, you get a lot of things for free in `plotnine`. Such as the x and y-axis labels. However we can still specify these things. Notice that multiple grammatical instructions are combined using the `+` operator."
   ]
  },
  {
   "cell_type": "code",
   "execution_count": null,
   "metadata": {},
   "outputs": [],
   "source": [
    "df_wave_subset = df_wave_long.loc[df_wave_long['wave'] == 'cos(1x)', :]\n",
    "p = (p9.ggplot(df_wave_subset) +\n",
    "     p9.geom_point(p9.aes(x='x', y='value')) +\n",
    "     p9.scale_x_continuous(name='x', breaks=[0, np.pi, 2*np.pi], labels=['0', 'π', '2π']) +\n",
    "     p9.scale_y_continuous(name='y')\n",
    ")\n",
    "print(p)"
   ]
  },
  {
   "cell_type": "markdown",
   "metadata": {},
   "source": [
    "If we want to use a line instead of points, we can simply use `geom_line` instead of `geom_point`."
   ]
  },
  {
   "cell_type": "code",
   "execution_count": null,
   "metadata": {},
   "outputs": [],
   "source": [
    "df_wave_subset = df_wave_long.loc[df_wave_long['wave'] == 'cos(1x)', :]\n",
    "p = (p9.ggplot(df_wave_subset) +\n",
    "     p9.geom_line(p9.aes(x='x', y='value')) +\n",
    "     p9.scale_x_continuous(name='x', breaks=[0, np.pi, 2*np.pi], labels=['0', 'π', '2π']) +\n",
    "     p9.scale_y_continuous(name='y')\n",
    ")\n",
    "print(p)"
   ]
  },
  {
   "cell_type": "markdown",
   "metadata": {},
   "source": [
    "Because the grammatical instructions are additive, if we want both lines and points we can simply use both `gemo_line` and `geom_point`:"
   ]
  },
  {
   "cell_type": "code",
   "execution_count": null,
   "metadata": {},
   "outputs": [],
   "source": [
    "df_wave_subset = df_wave_long.loc[df_wave_long['wave'] == 'cos(1x)', :]\n",
    "p = (p9.ggplot(df_wave_subset) +\n",
    "     p9.geom_line(p9.aes(x='x', y='value')) +\n",
    "     p9.geom_point(p9.aes(x='x', y='value')) +\n",
    "     p9.scale_x_continuous(name='x', breaks=[0, np.pi, 2*np.pi], labels=['0', 'π', '2π']) +\n",
    "     p9.scale_y_continuous(name='y')\n",
    ")\n",
    "print(p)"
   ]
  },
  {
   "cell_type": "markdown",
   "metadata": {},
   "source": [
    "It is a little redundant to keep copying `p9.aes(x='x', y='value')`. If you want aesthetics to be shared among all `geom_*` instructions then you can simply add the information to `p9.ggplot` instead."
   ]
  },
  {
   "cell_type": "code",
   "execution_count": null,
   "metadata": {},
   "outputs": [],
   "source": [
    "df_wave_subset = df_wave_long.loc[df_wave_long['wave'] == 'cos(1x)', :]\n",
    "p = (p9.ggplot(df_wave_subset, p9.aes(x='x', y='value')) +\n",
    "     p9.geom_line() +\n",
    "     p9.geom_point() +\n",
    "     p9.scale_x_continuous(name='x', breaks=[0, np.pi, 2*np.pi], labels=['0', 'π', '2π']) +\n",
    "     p9.scale_y_continuous(name='y')\n",
    ")\n",
    "print(p)"
   ]
  },
  {
   "cell_type": "markdown",
   "metadata": {},
   "source": [
    "## 4.3 Multiple lines and legends\n",
    "\n",
    "The graphical gramma makes it easy to show multiple lines/points in different colors or styles. You do this by simply including more data in the dataframe and adding additional aesthetics instructions."
   ]
  },
  {
   "cell_type": "code",
   "execution_count": null,
   "metadata": {
    "colab": {
     "base_uri": "https://localhost:8080/",
     "height": 269
    },
    "id": "1xkfb1fBC6vo",
    "outputId": "c6d3cbd9-2eb2-4619-f991-d39a98f1dacf"
   },
   "outputs": [],
   "source": [
    "df_wave_subset = df_wave_long.loc[df_wave_long['wavenumber'] == '1', :]\n",
    "p = (p9.ggplot(df_wave_subset, p9.aes(x='x', y='value', color='wave')) +\n",
    "     p9.geom_line() +\n",
    "     p9.scale_x_continuous(name='x', breaks=[0, np.pi, 2*np.pi], labels=['0', 'π', '2π'])\n",
    ")\n",
    "print(p)"
   ]
  },
  {
   "cell_type": "markdown",
   "metadata": {},
   "source": [
    "Notice that the legend is automatically added. This is a major advantage over matplotlib, which is why we encourage you to use plotnine. However, if you forget to include the `color` aesthetic instruction it will look confusing because all the data is treated as a single line. "
   ]
  },
  {
   "cell_type": "code",
   "execution_count": null,
   "metadata": {},
   "outputs": [],
   "source": [
    "df_wave_subset = df_wave_long.loc[df_wave_long['wavenumber'] == '1', :]\n",
    "p = (p9.ggplot(df_wave_subset, p9.aes(x='x', y='value')) +\n",
    "     p9.geom_line() +\n",
    "     p9.scale_x_continuous(name='x', breaks=[0, np.pi, 2*np.pi], labels=['0', 'π', '2π'])\n",
    ")\n",
    "print(p)"
   ]
  },
  {
   "cell_type": "markdown",
   "metadata": {},
   "source": [
    "It is also possible to use linetype instead of colors."
   ]
  },
  {
   "cell_type": "code",
   "execution_count": null,
   "metadata": {},
   "outputs": [],
   "source": [
    "df_wave_subset = df_wave_long.loc[df_wave_long['wavenumber'] == '1', :]\n",
    "p = (p9.ggplot(df_wave_subset, p9.aes(x='x', y='value', linetype='wave')) +\n",
    "     p9.geom_line() +\n",
    "     p9.scale_x_continuous(name='x', breaks=[0, np.pi, 2*np.pi], labels=['0', 'π', '2π'])\n",
    ")\n",
    "print(p)"
   ]
  },
  {
   "cell_type": "markdown",
   "metadata": {},
   "source": [
    "You can even use both linetype and color. This is an advantage for those who are colorblind. Again, notice that the correct lenged is automatically generated."
   ]
  },
  {
   "cell_type": "code",
   "execution_count": null,
   "metadata": {},
   "outputs": [],
   "source": [
    "df_wave_subset = df_wave_long.loc[df_wave_long['wavenumber'] == '1', :]\n",
    "p = (p9.ggplot(df_wave_subset, p9.aes(x='x', y='value', color='wave', linetype='wave')) +\n",
    "     p9.geom_line() +\n",
    "     p9.scale_x_continuous(name='x', breaks=[0, np.pi, 2*np.pi], labels=['0', 'π', '2π'])\n",
    ")\n",
    "print(p)"
   ]
  },
  {
   "cell_type": "markdown",
   "metadata": {
    "id": "KfEUw8gOE5C7"
   },
   "source": [
    "## 4.4 Subplotting (facets)\n",
    "\n",
    "When we add more data it can get confusing."
   ]
  },
  {
   "cell_type": "code",
   "execution_count": null,
   "metadata": {
    "colab": {
     "base_uri": "https://localhost:8080/",
     "height": 295
    },
    "id": "IK81UdTALbpM",
    "outputId": "90057d77-cb4c-4d11-cce7-cd5de0f260b6"
   },
   "outputs": [],
   "source": [
    "p = (p9.ggplot(df_wave_long, p9.aes(x='x', y='value', color='wave')) +\n",
    "     p9.geom_line() +\n",
    "     p9.scale_x_continuous(name='x', breaks=[0, np.pi, 2*np.pi], labels=['0', 'π', '2π'])\n",
    ")\n",
    "print(p)"
   ]
  },
  {
   "cell_type": "markdown",
   "metadata": {},
   "source": [
    "To reduce the confusing we can use facets (this is known as subplots in classical matplotlib terminology). This is done with `facet_grid` or `facet_wrap`. Notice how the x- and y-axis are shared among the subplots. You can set `scales='free'` to avoid this behavior, but a shared axis is typically desired. "
   ]
  },
  {
   "cell_type": "code",
   "execution_count": null,
   "metadata": {},
   "outputs": [],
   "source": [
    "p = (p9.ggplot(df_wave_long, p9.aes(x='x', y='value', color='wave')) +\n",
    "     p9.geom_line() +\n",
    "     p9.facet_wrap('wavenumber') +\n",
    "     p9.scale_x_continuous(name='x', breaks=[0, np.pi, 2*np.pi], labels=['0', 'π', '2π'])\n",
    ")\n",
    "print(p)"
   ]
  },
  {
   "cell_type": "markdown",
   "metadata": {},
   "source": [
    "`facet_wrap` will make the subplots folow similar to text (this is called wrapping). You can specify the number of columns or rows with `nrow` or `ncol`."
   ]
  },
  {
   "cell_type": "code",
   "execution_count": null,
   "metadata": {},
   "outputs": [],
   "source": [
    "p = (p9.ggplot(df_wave_long, p9.aes(x='x', y='value', color='wave')) +\n",
    "     p9.geom_line() +\n",
    "     p9.facet_wrap('wavenumber', ncol=3) +\n",
    "     p9.scale_x_continuous(name='x', breaks=[0, np.pi, 2*np.pi], labels=['0', 'π', '2π'])\n",
    ")\n",
    "print(p)"
   ]
  },
  {
   "cell_type": "markdown",
   "metadata": {},
   "source": [
    "Alternatively, `facet_grid` allows you to specify two axes of subplots."
   ]
  },
  {
   "cell_type": "code",
   "execution_count": null,
   "metadata": {
    "colab": {
     "base_uri": "https://localhost:8080/",
     "height": 282
    },
    "id": "Ff2BIuOmSmJR",
    "outputId": "de183624-5854-4cda-f192-16c16909a7dc"
   },
   "outputs": [],
   "source": [
    "p = (p9.ggplot(df_wave_long, p9.aes(x='x', y='value', color='wave')) +\n",
    "     p9.geom_line() +\n",
    "     p9.facet_grid('type ~ wavenumber') +\n",
    "     p9.scale_x_continuous(name='x', breaks=[0, np.pi, 2*np.pi], labels=['0', 'π', '2π'])\n",
    ")\n",
    "print(p)"
   ]
  },
  {
   "cell_type": "markdown",
   "metadata": {
    "id": "XWAj9tNNEfH2"
   },
   "source": [
    "## 5. Practice Problems\n",
    "\n",
    "Use these problems to test your abilities."
   ]
  },
  {
   "cell_type": "markdown",
   "metadata": {},
   "source": [
    "## 5.1 Problem 1 - Basic"
   ]
  },
  {
   "cell_type": "markdown",
   "metadata": {},
   "source": [
    "Determine if the list is monotonic, return the answer as a boolean."
   ]
  },
  {
   "cell_type": "code",
   "execution_count": null,
   "metadata": {
    "tags": []
   },
   "outputs": [],
   "source": [
    "def problem_1(data):\n",
    "    \"\"\"Tests if the data is monotonically increasing or decreasing\n",
    "    \n",
    "    Args:\n",
    "        data (List[int]): List of integers\n",
    "\n",
    "    Returns: True if data is monotoically increasing or decreasing, false otherwise\n",
    "    \"\"\"\n",
    "\n",
    "    ..."
   ]
  },
  {
   "cell_type": "code",
   "execution_count": null,
   "metadata": {
    "deletable": false,
    "editable": false
   },
   "outputs": [],
   "source": [
    "grader.check(\"question 1\")"
   ]
  },
  {
   "cell_type": "markdown",
   "metadata": {},
   "source": [
    "## 5.2 Problem 2 - numpy"
   ]
  },
  {
   "cell_type": "markdown",
   "metadata": {},
   "source": [
    "Return the maximum number and the index of that number from an array of numbers."
   ]
  },
  {
   "cell_type": "code",
   "execution_count": null,
   "metadata": {
    "colab": {
     "base_uri": "https://localhost:8080/"
    },
    "id": "uh8F9agEa8cY",
    "outputId": "146c4bf8-3e55-43bb-e1a6-d06acf0854c6",
    "tags": []
   },
   "outputs": [],
   "source": [
    "def problem_2(data):\n",
    "    \"\"\"Identify the maximum value and its index\n",
    "    \n",
    "    Args:\n",
    "        data (np.ndarray): Data as numpy array, has 1 dimention\n",
    "\n",
    "    Returns:\n",
    "        The maximum value,\n",
    "        The index of the maximum value\n",
    "    \"\"\"\n",
    "\n",
    "    ..."
   ]
  },
  {
   "cell_type": "code",
   "execution_count": null,
   "metadata": {
    "deletable": false,
    "editable": false
   },
   "outputs": [],
   "source": [
    "grader.check(\"question 2\")"
   ]
  },
  {
   "cell_type": "markdown",
   "metadata": {},
   "source": [
    "## 5.3 Problem 3 - pandas\n",
    "\n",
    "This is a table of the top 20 most populated cities."
   ]
  },
  {
   "cell_type": "code",
   "execution_count": null,
   "metadata": {},
   "outputs": [],
   "source": [
    "df_city_pop = pd.DataFrame([\n",
    "    { 'city': 'Tokyo', 'country': 'Japan', '2022': 37_274_000, '2021': 37_339_804 },\n",
    "    { 'city': 'Delhi', 'country': 'India', '2022': 32_065_760, '2021': 31_181_376 },\n",
    "    { 'city': 'Shanghai', 'country': 'China', '2022': 28_516_904, '2021': 27_795_702 },\n",
    "    { 'city': 'Dhaka', 'country': 'Bangladesh', '2022': 22_478_116, '2021': 21_741_090 },\n",
    "    { 'city': 'Sao Paulo', 'country': 'Brazil', '2022': 22_429_800, '2021': 22_237_472 },\n",
    "    { 'city': 'Mexico City', 'country': 'Mexico', '2022': 22_085_140, '2021': 21_918_936 },\n",
    "    { 'city': 'Cairo', 'country': 'Egypt', '2022': 21_750_020, '2021': 21_322_750 },\n",
    "    { 'city': 'Beijing', 'country': 'China', '2022': 21_333_332, '2021': 20_896_820 },\n",
    "    { 'city': 'Mumbai', 'country': 'India', '2022': 20_961_472, '2021': 20_667_656 },\n",
    "    { 'city': 'Osaka', 'country': 'Japan', '2022': 19_059_856, '2021': 19_110_616 },\n",
    "    { 'city': 'Chongqing', 'country': 'China', '2022': 16_874_740, '2021': 16_382_376 },\n",
    "    { 'city': 'Karachi', 'country': 'Pakistan', '2022': 16_839_950, '2021': 16_459_472 },\n",
    "    { 'city': 'Istanbul', 'country': 'Turkey', '2022': 15_636_243, '2021': 15_415_197 },\n",
    "    { 'city': 'Kinshasa\tDR', 'country': 'Congo', '2022': 15_628_085, '2021': 14_970_460 },\n",
    "    { 'city': 'Lagos', 'country': 'Nigeria', '2022': 15_387_639, '2021': 14_862_111 },\n",
    "    { 'city': 'Buenos Aires', 'country': 'Argentina', '2022': 15_369_919, '2021': 15_257_673 },\n",
    "    { 'city': 'Kolkata', 'country': 'India', '2022': 15_133_888, '2021': 14_974_073 },\n",
    "    { 'city': 'Manila', 'country': 'Philippines', '2022': 14_406_059, '2021': 14_158_573 },\n",
    "    { 'city': 'Tianjin', 'country': 'China', '2022': 14_011_828, '2021': 13_794_450 },\n",
    "    { 'city': 'Guangzhou', 'country': 'China', '2022': 13_964_637, '2021': 13_635_397 },\n",
    "])\n",
    "display(df_city_pop)"
   ]
  },
  {
   "cell_type": "markdown",
   "metadata": {},
   "source": [
    "### 5.3.a - long format"
   ]
  },
  {
   "cell_type": "code",
   "execution_count": null,
   "metadata": {
    "tags": []
   },
   "outputs": [],
   "source": [
    "def problem_3a(df):\n",
    "    \"\"\"Converts the table to long-format, such the columns are city, country, year, and population \n",
    "\n",
    "    Args:\n",
    "        df (pd.DataFrame): DataFrame with the columns city, conuntry, 2022, and 2021. Years refers to the population\n",
    "    \n",
    "    Returns:\n",
    "        pd.DataFrame: DataFrame with the columns city, country, year, and population\n",
    "    \"\"\"\n",
    "\n",
    "    ..."
   ]
  },
  {
   "cell_type": "code",
   "execution_count": null,
   "metadata": {
    "deletable": false,
    "editable": false
   },
   "outputs": [],
   "source": [
    "grader.check(\"question 3a\")"
   ]
  },
  {
   "cell_type": "markdown",
   "metadata": {},
   "source": [
    "### 4.3.b - aggregation"
   ]
  },
  {
   "cell_type": "code",
   "execution_count": null,
   "metadata": {
    "tags": []
   },
   "outputs": [],
   "source": [
    "def problem_3b(df):\n",
    "    \"\"\"Sum the population for each country and year, return in long format\n",
    "\n",
    "    Hint: Expand on the solution from problem_3a\n",
    "\n",
    "    Args:\n",
    "        df (pd.DataFrame): DataFrame with the columns city, conuntry, 2022, and 2021. Years refers to the population\n",
    "    \n",
    "    Returns:\n",
    "        pd.DataFrame: DataFrame with the columns country, year, and population\n",
    "    \"\"\"\n",
    "\n",
    "    ..."
   ]
  },
  {
   "cell_type": "code",
   "execution_count": null,
   "metadata": {
    "deletable": false,
    "editable": false
   },
   "outputs": [],
   "source": [
    "grader.check(\"question 3b\")"
   ]
  },
  {
   "cell_type": "markdown",
   "metadata": {},
   "source": [
    "### 4.3.c - Long to wide"
   ]
  },
  {
   "cell_type": "code",
   "execution_count": null,
   "metadata": {
    "tags": []
   },
   "outputs": [],
   "source": [
    "def problem_3c(df):\n",
    "    \"\"\"Sum the population for each country and year, return in wide format \n",
    "\n",
    "    Hint: Expand on the solution from problem_3b\n",
    "    Hint: Look at pandas.DataFrame.pivot\n",
    "\n",
    "    Args:\n",
    "        df (pd.DataFrame): DataFrame with the columns city, conuntry, 2022, and 2021. Years refers to the population\n",
    "    \n",
    "    Returns:\n",
    "        pd.DataFrame: DataFrame with the columns country, 2022, 2021\n",
    "    \"\"\"\n",
    "\n",
    "    ..."
   ]
  },
  {
   "cell_type": "code",
   "execution_count": null,
   "metadata": {
    "deletable": false,
    "editable": false
   },
   "outputs": [],
   "source": [
    "grader.check(\"question 3c\")"
   ]
  },
  {
   "cell_type": "markdown",
   "metadata": {},
   "source": [
    "## 4.4 - plotting"
   ]
  },
  {
   "cell_type": "code",
   "execution_count": null,
   "metadata": {
    "id": "H93Y94RegNro"
   },
   "outputs": [],
   "source": [
    "def iris_dataset():\n",
    "    from sklearn.datasets import load_iris\n",
    "    d = load_iris(as_frame=True)\n",
    "    return d['data'].assign(variant = d.target_names[d['target']])\n",
    "\n",
    "display(iris_dataset())"
   ]
  },
  {
   "cell_type": "markdown",
   "metadata": {},
   "source": [
    "<!-- BEGIN QUESTION -->\n",
    "\n",
    "### question 4.4.a\n",
    "\n",
    "Plot the sepal width on the x-axis and the petal width on the y-axis, color the dots in a scatter plot using the variant columns."
   ]
  },
  {
   "cell_type": "code",
   "execution_count": null,
   "metadata": {
    "tags": []
   },
   "outputs": [],
   "source": [
    "df = iris_dataset()\n",
    "...\n",
    "print(p)"
   ]
  },
  {
   "attachments": {
    "output.png": {
     "image/png": "[encoded data removed]"
    },
    "output_44a.png": {
     "image/png": "[encoded data removed]"
    }
   },
   "cell_type": "markdown",
   "metadata": {},
   "source": [
    "Your plot should look like this:\n",
    "\n",
    "<img src=\"https://drive.google.com/uc?id=1FGEDO9IdaG1VyDqrPrMEnMqq10hyTCVY\">"
   ]
  },
  {
   "cell_type": "markdown",
   "metadata": {},
   "source": [
    "<!-- END QUESTION -->\n",
    "\n",
    "<!-- BEGIN QUESTION -->\n",
    "\n",
    "### question 4.4.b\n",
    "\n",
    "Plot the equation $sin(x)*cos(y)*x^2$ form 0 to $2 \\pi$ for both x and y, as a heatmap. Hint use the method `geom_raster`."
   ]
  },
  {
   "cell_type": "code",
   "execution_count": null,
   "metadata": {
    "colab": {
     "base_uri": "https://localhost:8080/",
     "height": 295
    },
    "id": "9XD8ZeYkppmR",
    "outputId": "df49d0ff-57c7-44ce-8c62-1a20bd61c3d6"
   },
   "outputs": [],
   "source": [
    "x_44b, y_44b = np.meshgrid(np.linspace(0,2*np.pi), np.linspace(0,2*np.pi))\n",
    "df_44b = pd.DataFrame({\n",
    "    'x': x_44b.ravel(),\n",
    "    'y': y_44b.ravel(),\n",
    "    'z': np.sin(x_44b.ravel()) * np.cos(y_44b.ravel()) * x_44b.ravel()**2\n",
    "})"
   ]
  },
  {
   "cell_type": "code",
   "execution_count": null,
   "metadata": {
    "tags": []
   },
   "outputs": [],
   "source": [
    "...\n",
    "print(p)"
   ]
  },
  {
   "attachments": {
    "4.4b.png": {
     "image/png": "[encoded data removed]"
    }
   },
   "cell_type": "markdown",
   "metadata": {},
   "source": [
    "Your plot should look like this:\n",
    "\n",
    "<img src=\"https://drive.google.com/uc?id=1fGjuCg4JkoihXP18dXxIx32O2c0V9y4B\">"
   ]
  },
  {
   "cell_type": "markdown",
   "metadata": {},
   "source": [
    "<!-- END QUESTION -->\n",
    "\n"
   ]
  },
  {
   "cell_type": "raw",
   "metadata": {},
   "source": []
  }
 ],
 "metadata": {
  "colab": {
   "collapsed_sections": [],
   "provenance": [],
   "toc_visible": true
  },
  "kernelspec": {
   "display_name": "Python 3.9.8 64-bit",
   "language": "python",
   "name": "python3"
  },
  "language_info": {
   "codemirror_mode": {
    "name": "ipython",
    "version": 3
   },
   "file_extension": ".py",
   "mimetype": "text/x-python",
   "name": "python",
   "nbconvert_exporter": "python",
   "pygments_lexer": "ipython3",
   "version": "3.9.8"
  },
  "vscode": {
   "interpreter": {
    "hash": "aee8b7b246df8f9039afb4144a1f6fd8d2ca17a180786b69acc140d282b71a49"
   }
  }
 },
 "nbformat": 4,
 "nbformat_minor": 0
}
